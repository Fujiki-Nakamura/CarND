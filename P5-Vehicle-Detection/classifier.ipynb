{
 "cells": [
  {
   "cell_type": "markdown",
   "metadata": {},
   "source": [
    "## Linear SVM"
   ]
  },
  {
   "cell_type": "code",
   "execution_count": 1,
   "metadata": {
    "collapsed": true
   },
   "outputs": [],
   "source": [
    "from imp import reload\n",
    "import glob\n",
    "import os\n",
    "\n",
    "import cv2\n",
    "\n",
    "import numpy as np\n",
    "import pandas as pd\n",
    "import matplotlib.pyplot as plt\n",
    "import matplotlib.image as mpimg\n",
    "%matplotlib inline\n",
    "\n",
    "save_to = 'classifiers/'\n",
    "if not os.path.exists(save_to):\n",
    "    os.makedirs(save_to)"
   ]
  },
  {
   "cell_type": "code",
   "execution_count": 2,
   "metadata": {
    "collapsed": false
   },
   "outputs": [
    {
     "name": "stdout",
     "output_type": "stream",
     "text": [
      "vehicle = 8792 samples\n",
      "non-vehicle = 8968 samples\n"
     ]
    }
   ],
   "source": [
    "# Load the images\n",
    "from utils import classifier; reload(classifier)\n",
    "\n",
    "images_rgb, labels = classifier.load_data(cv2.COLOR_BGR2RGB)"
   ]
  },
  {
   "cell_type": "code",
   "execution_count": 3,
   "metadata": {
    "collapsed": false
   },
   "outputs": [
    {
     "name": "stdout",
     "output_type": "stream",
     "text": [
      "CPU times: user 1min 10s, sys: 731 ms, total: 1min 11s\n",
      "Wall time: 1min 12s\n"
     ]
    }
   ],
   "source": [
    "%%time\n",
    "\n",
    "from utils import classifier; reload(classifier)\n",
    "\n",
    "features_list = []\n",
    "resize_to = (32, 32)\n",
    "\n",
    "for image in images_rgb:\n",
    "    img_y_cr_cb = cv2.cvtColor(image, cv2.COLOR_RGB2YCR_CB)\n",
    "    img_hsv = cv2.cvtColor(image, cv2.COLOR_RGB2HSV)\n",
    "    \n",
    "    # HOG feature\n",
    "    hog_feature = classifier.get_hog_features(img_y_cr_cb, hog_channels=[0, 1, 2])\n",
    "\n",
    "    # color hist feature\n",
    "    color_hist_feature = classifier.get_color_hist_features(img_hsv)\n",
    "    features_list.append(np.concatenate((hog_feature, color_hist_feature)))"
   ]
  },
  {
   "cell_type": "code",
   "execution_count": 4,
   "metadata": {
    "collapsed": false
   },
   "outputs": [
    {
     "name": "stdout",
     "output_type": "stream",
     "text": [
      "X.shape = (17760, 5388)\n"
     ]
    }
   ],
   "source": [
    "from sklearn.utils import shuffle\n",
    "\n",
    "X, y = shuffle(np.array(features_list), labels, random_state=0)\n",
    "print('X.shape = {}'.format(X.shape))"
   ]
  },
  {
   "cell_type": "code",
   "execution_count": 5,
   "metadata": {
    "collapsed": false
   },
   "outputs": [
    {
     "data": {
      "text/plain": [
       "['./classifiers/standard_scaler.pkl']"
      ]
     },
     "execution_count": 5,
     "metadata": {},
     "output_type": "execute_result"
    }
   ],
   "source": [
    "# Scaling\n",
    "from sklearn.preprocessing import StandardScaler\n",
    "\n",
    "scaler = StandardScaler()\n",
    "scaler.fit(X)\n",
    "X_scaled = scaler.transform(X)\n",
    "\n",
    "from sklearn.externals import joblib\n",
    "joblib.dump(scaler, './classifiers/standard_scaler.pkl')"
   ]
  },
  {
   "cell_type": "code",
   "execution_count": 6,
   "metadata": {
    "collapsed": false
   },
   "outputs": [],
   "source": [
    "# train, test split\n",
    "from sklearn.model_selection import train_test_split\n",
    "\n",
    "X_train_origin, X_test, y_train_origin, y_test = \\\n",
    "    train_test_split(X_scaled, y, random_state=0, stratify=y)"
   ]
  },
  {
   "cell_type": "markdown",
   "metadata": {},
   "source": [
    "### Linear SVM"
   ]
  },
  {
   "cell_type": "code",
   "execution_count": 7,
   "metadata": {
    "collapsed": false
   },
   "outputs": [
    {
     "name": "stdout",
     "output_type": "stream",
     "text": [
      "Start Fold 1\n",
      "Fit in 13.003484964370728\n",
      "Fold 1 in 14.437662124633789\n",
      "Start Fold 2\n",
      "Fit in 2.856567859649658\n",
      "Fold 2 in 3.488132953643799\n",
      "Start Fold 3\n",
      "Fit in 14.515044212341309\n",
      "Fold 3 in 15.767385005950928\n",
      "Start Fold 4\n",
      "Fit in 4.51688289642334\n",
      "Fold 4 in 5.727731943130493\n",
      "Start Fold 5\n",
      "Fit in 2.365161895751953\n",
      "Fold 5 in 2.8663549423217773\n",
      "   acc   val_acc\n",
      "0  1.0  0.992871\n",
      "1  1.0  0.992492\n",
      "2  1.0  0.989114\n",
      "3  1.0  0.989489\n",
      "4  1.0  0.990988\n"
     ]
    }
   ],
   "source": [
    "# Linear SVM\n",
    "import time\n",
    "\n",
    "from sklearn.model_selection import StratifiedKFold\n",
    "from sklearn.svm import LinearSVC\n",
    "\n",
    "\n",
    "# DataFrame to record cross validation result\n",
    "df_cv_linear_svc = pd.DataFrame()\n",
    "\n",
    "skf = StratifiedKFold(n_splits=5, shuffle=True, random_state=0)\n",
    "\n",
    "for i, (train_index, test_index) in enumerate(skf.split(X_train_origin, y_train_origin)):\n",
    "    print('Start Fold {}'.format(i + 1))\n",
    "    t0_fold = time.time()\n",
    "\n",
    "    X_train, y_train = X_train_origin[train_index], y_train_origin[train_index]\n",
    "    X_val, y_val = X_train_origin[test_index], y_train_origin[test_index]\n",
    "\n",
    "    clf = LinearSVC()\n",
    "    t0_fit = time.time()\n",
    "    clf.fit(X_train, y_train)\n",
    "    print('Fit in {}'.format(time.time() - t0_fit))\n",
    "\n",
    "    df_cv_linear_svc.loc[i, 'acc'] = clf.score(X_train, y_train)\n",
    "    df_cv_linear_svc.loc[i, 'val_acc'] = clf.score(X_val, y_val)\n",
    "    \n",
    "    print('Fold {} in {}'.format(i + 1, time.time() - t0_fold))\n",
    "\n",
    "print(df_cv_linear_svc)"
   ]
  },
  {
   "cell_type": "code",
   "execution_count": 8,
   "metadata": {
    "collapsed": false
   },
   "outputs": [
    {
     "name": "stdout",
     "output_type": "stream",
     "text": [
      "CPU times: user 12.8 s, sys: 1.72 s, total: 14.5 s\n",
      "Wall time: 16.2 s\n"
     ]
    }
   ],
   "source": [
    "%%time\n",
    "\n",
    "# Train for test\n",
    "clf = LinearSVC()\n",
    "clf.fit(X_train_origin, y_train_origin)\n",
    "\n",
    "# Model persistence\n",
    "from sklearn.externals import joblib\n",
    "joblib.dump(clf, os.path.join(save_to, 'linear_svm.pkl'))"
   ]
  },
  {
   "cell_type": "code",
   "execution_count": 9,
   "metadata": {
    "collapsed": false
   },
   "outputs": [
    {
     "name": "stdout",
     "output_type": "stream",
     "text": [
      "test acc =  0.993468468468\n",
      "CPU times: user 60.9 ms, sys: 264 ms, total: 325 ms\n",
      "Wall time: 613 ms\n"
     ]
    }
   ],
   "source": [
    "# Test accuracy\n",
    "%time print('test acc = ', clf.score(X_test, y_test))"
   ]
  },
  {
   "cell_type": "code",
   "execution_count": null,
   "metadata": {
    "collapsed": true
   },
   "outputs": [],
   "source": []
  }
 ],
 "metadata": {
  "anaconda-cloud": {},
  "kernelspec": {
   "display_name": "Python [conda env:carnd-term1]",
   "language": "python",
   "name": "conda-env-carnd-term1-py"
  },
  "language_info": {
   "codemirror_mode": {
    "name": "ipython",
    "version": 3
   },
   "file_extension": ".py",
   "mimetype": "text/x-python",
   "name": "python",
   "nbconvert_exporter": "python",
   "pygments_lexer": "ipython3",
   "version": "3.5.2"
  }
 },
 "nbformat": 4,
 "nbformat_minor": 2
}
