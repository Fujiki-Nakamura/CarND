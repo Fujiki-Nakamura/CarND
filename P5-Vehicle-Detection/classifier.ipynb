{
 "cells": [
  {
   "cell_type": "code",
   "execution_count": 1,
   "metadata": {
    "collapsed": true
   },
   "outputs": [],
   "source": [
    "from imp import reload\n",
    "import glob\n",
    "import os\n",
    "\n",
    "import cv2\n",
    "\n",
    "import numpy as np\n",
    "import pandas as pd\n",
    "import matplotlib.pyplot as plt\n",
    "import matplotlib.image as mpimg\n",
    "%matplotlib inline"
   ]
  },
  {
   "cell_type": "code",
   "execution_count": 2,
   "metadata": {
    "collapsed": false
   },
   "outputs": [
    {
     "name": "stdout",
     "output_type": "stream",
     "text": [
      "vehicle = 8792 samples\n",
      "non-vehicle = 8968 samples\n"
     ]
    }
   ],
   "source": [
    "import utils; reload(utils)\n",
    "images, labels = utils.load_data()"
   ]
  },
  {
   "cell_type": "code",
   "execution_count": 3,
   "metadata": {
    "collapsed": false
   },
   "outputs": [
    {
     "name": "stdout",
     "output_type": "stream",
     "text": [
      "CPU times: user 1min 6s, sys: 1.78 s, total: 1min 8s\n",
      "Wall time: 1min 12s\n"
     ]
    }
   ],
   "source": [
    "import utils; reload(utils)\n",
    "%time hog_features = utils.get_hog_features(images)"
   ]
  },
  {
   "cell_type": "code",
   "execution_count": 4,
   "metadata": {
    "collapsed": true
   },
   "outputs": [],
   "source": [
    "from sklearn.utils import shuffle\n",
    "X, y = shuffle(hog_features, labels, random_state=0)"
   ]
  },
  {
   "cell_type": "code",
   "execution_count": 6,
   "metadata": {
    "collapsed": false
   },
   "outputs": [],
   "source": [
    "# train, test split\n",
    "from sklearn.model_selection import train_test_split\n",
    "\n",
    "X_train_origin, X_test, y_train_origin, y_test = \\\n",
    "    train_test_split(X, y, random_state=0, stratify=y)"
   ]
  },
  {
   "cell_type": "code",
   "execution_count": 8,
   "metadata": {
    "collapsed": false
   },
   "outputs": [
    {
     "name": "stdout",
     "output_type": "stream",
     "text": [
      "Fold 1 in 624.5036978721619\n",
      "Fold 1 in 1410.033364057541\n",
      "Fold 2 in 632.2436780929565\n",
      "Fold 2 in 1387.6230890750885\n",
      "Fold 3 in 624.837021112442\n",
      "Fold 3 in 1418.9804599285126\n",
      "Fold 4 in 617.5587420463562\n",
      "Fold 4 in 1453.616994857788\n",
      "Fold 5 in 648.9987089633942\n",
      "Fold 5 in 1479.9915750026703\n",
      "        acc   val_acc\n",
      "0  0.874894  0.873171\n",
      "1  0.873592  0.868243\n",
      "2  0.873874  0.879129\n",
      "3  0.875000  0.870120\n",
      "4  0.874073  0.876455\n"
     ]
    }
   ],
   "source": [
    "# SVM\n",
    "\n",
    "import time\n",
    "\n",
    "from sklearn.model_selection import StratifiedKFold\n",
    "from sklearn.svm import SVC\n",
    "from sklearn.metrics import accuracy_score\n",
    "\n",
    "\n",
    "# DataFrame to record cross validation result\n",
    "df_cv = pd.DataFrame()\n",
    "\n",
    "skf = StratifiedKFold(n_splits=5, shuffle=True, random_state=0)\n",
    "\n",
    "for i, (train_index, test_index) in enumerate(skf.split(X_train_origin, y_train_origin)):\n",
    "    t0_fold = time.time()\n",
    "\n",
    "    X_train, y_train = X_train_origin[train_index], y_train_origin[train_index]\n",
    "    X_val, y_val = X_train_origin[test_index], y_train_origin[test_index]\n",
    "\n",
    "    clf = SVC()\n",
    "    t0_fit = time.time()\n",
    "    clf.fit(X_train, y_train)\n",
    "    print('Fold {} in {}'.format(i + 1, time.time() - t0_fit))\n",
    "\n",
    "    y_pred_train = clf.predict(X_train)\n",
    "    y_pred_val = clf.predict(X_val)\n",
    "\n",
    "    df_cv.loc[i, 'acc'] = accuracy_score(y_train, y_pred_train)\n",
    "    df_cv.loc[i, 'val_acc'] = accuracy_score(y_val, y_pred_val)\n",
    "    \n",
    "    print('Fold {} in {}'.format(i + 1, time.time() - t0_fold))\n",
    "\n",
    "print(df_cv)"
   ]
  },
  {
   "cell_type": "code",
   "execution_count": 9,
   "metadata": {
    "collapsed": false
   },
   "outputs": [
    {
     "data": {
      "text/plain": [
       "['svm.pkl']"
      ]
     },
     "execution_count": 9,
     "metadata": {},
     "output_type": "execute_result"
    }
   ],
   "source": [
    "# Model persistence\n",
    "from sklearn.externals import joblib\n",
    "joblib.dump(clf, 'svm.pkl')"
   ]
  },
  {
   "cell_type": "code",
   "execution_count": 10,
   "metadata": {
    "collapsed": false
   },
   "outputs": [
    {
     "name": "stdout",
     "output_type": "stream",
     "text": [
      "pred time = 262.16670203208923 seconds\n",
      "0.871846846847\n",
      "test acc =  0.871846846847\n"
     ]
    }
   ],
   "source": [
    "# Test accuracy\n",
    "t0 = time.time()\n",
    "y_pred_test = clf.predict(X_test)\n",
    "print('pred time = {} seconds'.format(time.time() - t0))\n",
    "print(accuracy_score(y_test, y_pred_test))\n",
    "print('test acc = ', clf.score(X_test, y_test))"
   ]
  },
  {
   "cell_type": "markdown",
   "metadata": {},
   "source": [
    "### Linear SVM"
   ]
  },
  {
   "cell_type": "code",
   "execution_count": 13,
   "metadata": {
    "collapsed": false
   },
   "outputs": [
    {
     "name": "stdout",
     "output_type": "stream",
     "text": [
      "Start Fold 1\n",
      "Fit in 13.026461839675903\n",
      "Fold 1 in 13.512642860412598\n",
      "Start Fold 2\n",
      "Fit in 12.42301893234253\n",
      "Fold 2 in 12.857972145080566\n",
      "Start Fold 3\n",
      "Fit in 12.231029987335205\n",
      "Fold 3 in 12.686918020248413\n",
      "Start Fold 4\n",
      "Fit in 15.79684591293335\n",
      "Fold 4 in 16.356952905654907\n",
      "Start Fold 5\n",
      "Fit in 15.343703985214233\n",
      "Fold 5 in 15.86599087715149\n",
      "        acc   val_acc\n",
      "0  0.996997  0.962852\n",
      "1  0.997279  0.971847\n",
      "2  0.996622  0.971847\n",
      "3  0.997185  0.973348\n",
      "4  0.997466  0.964326\n"
     ]
    },
    {
     "data": {
      "text/plain": [
       "['linear_svm.pkl']"
      ]
     },
     "execution_count": 13,
     "metadata": {},
     "output_type": "execute_result"
    }
   ],
   "source": [
    "# Linear SVM\n",
    "import time\n",
    "\n",
    "from sklearn.model_selection import StratifiedKFold\n",
    "from sklearn.svm import LinearSVC\n",
    "\n",
    "\n",
    "# DataFrame to record cross validation result\n",
    "df_cv_linear_svc = pd.DataFrame()\n",
    "\n",
    "skf = StratifiedKFold(n_splits=5, shuffle=True, random_state=0)\n",
    "\n",
    "for i, (train_index, test_index) in enumerate(skf.split(X_train_origin, y_train_origin)):\n",
    "    print('Start Fold {}'.format(i + 1))\n",
    "    t0_fold = time.time()\n",
    "\n",
    "    X_train, y_train = X_train_origin[train_index], y_train_origin[train_index]\n",
    "    X_val, y_val = X_train_origin[test_index], y_train_origin[test_index]\n",
    "\n",
    "    clf = LinearSVC()\n",
    "    t0_fit = time.time()\n",
    "    clf.fit(X_train, y_train)\n",
    "    print('Fit in {}'.format(time.time() - t0_fit))\n",
    "\n",
    "    df_cv_linear_svc.loc[i, 'acc'] = clf.score(X_train, y_train)\n",
    "    df_cv_linear_svc.loc[i, 'val_acc'] = clf.score(X_val, y_val)\n",
    "    \n",
    "    print('Fold {} in {}'.format(i + 1, time.time() - t0_fold))\n",
    "\n",
    "print(df_cv_linear_svc)\n",
    "\n",
    "# Model persistence\n",
    "from sklearn.externals import joblib\n",
    "joblib.dump(clf, 'linear_svm.pkl')"
   ]
  },
  {
   "cell_type": "code",
   "execution_count": 14,
   "metadata": {
    "collapsed": false
   },
   "outputs": [
    {
     "name": "stdout",
     "output_type": "stream",
     "text": [
      "test acc =  0.968918918919\n",
      "CPU times: user 60.9 ms, sys: 197 ms, total: 258 ms\n",
      "Wall time: 407 ms\n"
     ]
    }
   ],
   "source": [
    "# Test accuracy\n",
    "%time print('test acc = ', clf.score(X_test, y_test))"
   ]
  },
  {
   "cell_type": "code",
   "execution_count": null,
   "metadata": {
    "collapsed": true
   },
   "outputs": [],
   "source": []
  }
 ],
 "metadata": {
  "anaconda-cloud": {},
  "kernelspec": {
   "display_name": "Python [conda env:carnd-term1]",
   "language": "python",
   "name": "conda-env-carnd-term1-py"
  },
  "language_info": {
   "codemirror_mode": {
    "name": "ipython",
    "version": 3
   },
   "file_extension": ".py",
   "mimetype": "text/x-python",
   "name": "python",
   "nbconvert_exporter": "python",
   "pygments_lexer": "ipython3",
   "version": "3.5.2"
  }
 },
 "nbformat": 4,
 "nbformat_minor": 2
}
