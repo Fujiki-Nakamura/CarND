{
 "cells": [
  {
   "cell_type": "markdown",
   "metadata": {},
   "source": [
    "## Linear SVM"
   ]
  },
  {
   "cell_type": "code",
   "execution_count": 1,
   "metadata": {
    "collapsed": true
   },
   "outputs": [],
   "source": [
    "from imp import reload\n",
    "import glob\n",
    "import os\n",
    "\n",
    "import cv2\n",
    "\n",
    "import numpy as np\n",
    "import pandas as pd\n",
    "import matplotlib.pyplot as plt\n",
    "import matplotlib.image as mpimg\n",
    "%matplotlib inline\n",
    "\n",
    "save_to = 'classifiers/'\n",
    "if not os.path.exists(save_to):\n",
    "    os.makedirs(save_to)"
   ]
  },
  {
   "cell_type": "code",
   "execution_count": 2,
   "metadata": {
    "collapsed": false
   },
   "outputs": [
    {
     "name": "stdout",
     "output_type": "stream",
     "text": [
      "vehicle = 8792 samples\n",
      "non-vehicle = 8968 samples\n"
     ]
    }
   ],
   "source": [
    "# Load the images\n",
    "from utils import classifier; reload(classifier)\n",
    "\n",
    "images_rgb, labels = classifier.load_data(cv2.COLOR_BGR2RGB)"
   ]
  },
  {
   "cell_type": "code",
   "execution_count": 3,
   "metadata": {
    "collapsed": false
   },
   "outputs": [
    {
     "name": "stdout",
     "output_type": "stream",
     "text": [
      "CPU times: user 59.6 s, sys: 637 ms, total: 1min\n",
      "Wall time: 1min\n"
     ]
    }
   ],
   "source": [
    "%%time\n",
    "\n",
    "features_list = []\n",
    "resize_to = (32, 32)\n",
    "\n",
    "for image in images_rgb:\n",
    "    y_cr_cb = cv2.cvtColor(image, cv2.COLOR_RGB2YCR_CB)\n",
    "    # hls = cv2.cvtColor(image, cv2.COLOR_RGB2HLS)\n",
    "    # HOG feature\n",
    "    hog_ycrcb = classifier.get_hog_features(y_cr_cb, hog_channels=[0, 1, 2])\n",
    "    # image feature\n",
    "    img_feature = cv2.resize(image, resize_to).ravel()\n",
    "    features_list.append(np.concatenate((hog_ycrcb, img_feature)))"
   ]
  },
  {
   "cell_type": "code",
   "execution_count": 4,
   "metadata": {
    "collapsed": false
   },
   "outputs": [
    {
     "name": "stdout",
     "output_type": "stream",
     "text": [
      "X.shape = (17760, 8364)\n"
     ]
    }
   ],
   "source": [
    "from sklearn.utils import shuffle\n",
    "\n",
    "X, y = shuffle(np.array(features_list), labels, random_state=0)\n",
    "print('X.shape = {}'.format(X.shape))"
   ]
  },
  {
   "cell_type": "code",
   "execution_count": 5,
   "metadata": {
    "collapsed": false
   },
   "outputs": [
    {
     "data": {
      "text/plain": [
       "['./classifiers/standard_scaler.pkl']"
      ]
     },
     "execution_count": 5,
     "metadata": {},
     "output_type": "execute_result"
    }
   ],
   "source": [
    "# Scaling\n",
    "from sklearn.preprocessing import StandardScaler\n",
    "\n",
    "scaler = StandardScaler()\n",
    "scaler.fit(X)\n",
    "X_scaled = scaler.transform(X)\n",
    "\n",
    "from sklearn.externals import joblib\n",
    "joblib.dump(scaler, './classifiers/standard_scaler.pkl')"
   ]
  },
  {
   "cell_type": "code",
   "execution_count": 6,
   "metadata": {
    "collapsed": false
   },
   "outputs": [],
   "source": [
    "# train, test split\n",
    "from sklearn.model_selection import train_test_split\n",
    "\n",
    "X_train_origin, X_test, y_train_origin, y_test = \\\n",
    "    train_test_split(X_scaled, y, random_state=0, stratify=y)"
   ]
  },
  {
   "cell_type": "markdown",
   "metadata": {},
   "source": [
    "### Linear SVM"
   ]
  },
  {
   "cell_type": "code",
   "execution_count": 7,
   "metadata": {
    "collapsed": false
   },
   "outputs": [
    {
     "name": "stdout",
     "output_type": "stream",
     "text": [
      "Start Fold 1\n",
      "Fit in 9.067813873291016\n",
      "Fold 1 in 11.598341941833496\n",
      "Start Fold 2\n",
      "Fit in 6.359969139099121\n",
      "Fold 2 in 8.272781133651733\n",
      "Start Fold 3\n",
      "Fit in 3.7733049392700195\n",
      "Fold 3 in 4.5337629318237305\n",
      "Start Fold 4\n",
      "Fit in 18.730575799942017\n",
      "Fold 4 in 19.99231219291687\n",
      "Start Fold 5\n",
      "Fit in 5.345907926559448\n",
      "Fold 5 in 6.3388588428497314\n",
      "   acc   val_acc\n",
      "0  1.0  0.992120\n",
      "1  1.0  0.991366\n",
      "2  1.0  0.990991\n",
      "3  1.0  0.989489\n",
      "4  1.0  0.992114\n"
     ]
    }
   ],
   "source": [
    "# Linear SVM\n",
    "import time\n",
    "\n",
    "from sklearn.model_selection import StratifiedKFold\n",
    "from sklearn.svm import LinearSVC\n",
    "\n",
    "\n",
    "# DataFrame to record cross validation result\n",
    "df_cv_linear_svc = pd.DataFrame()\n",
    "\n",
    "skf = StratifiedKFold(n_splits=5, shuffle=True, random_state=0)\n",
    "\n",
    "for i, (train_index, test_index) in enumerate(skf.split(X_train_origin, y_train_origin)):\n",
    "    print('Start Fold {}'.format(i + 1))\n",
    "    t0_fold = time.time()\n",
    "\n",
    "    X_train, y_train = X_train_origin[train_index], y_train_origin[train_index]\n",
    "    X_val, y_val = X_train_origin[test_index], y_train_origin[test_index]\n",
    "\n",
    "    clf = LinearSVC()\n",
    "    t0_fit = time.time()\n",
    "    clf.fit(X_train, y_train)\n",
    "    print('Fit in {}'.format(time.time() - t0_fit))\n",
    "\n",
    "    df_cv_linear_svc.loc[i, 'acc'] = clf.score(X_train, y_train)\n",
    "    df_cv_linear_svc.loc[i, 'val_acc'] = clf.score(X_val, y_val)\n",
    "    \n",
    "    print('Fold {} in {}'.format(i + 1, time.time() - t0_fold))\n",
    "\n",
    "print(df_cv_linear_svc)"
   ]
  },
  {
   "cell_type": "code",
   "execution_count": 8,
   "metadata": {
    "collapsed": false
   },
   "outputs": [
    {
     "name": "stdout",
     "output_type": "stream",
     "text": [
      "CPU times: user 4.36 s, sys: 2.02 s, total: 6.38 s\n",
      "Wall time: 7 s\n"
     ]
    }
   ],
   "source": [
    "%%time\n",
    "\n",
    "# Train for test\n",
    "clf = LinearSVC()\n",
    "clf.fit(X_train_origin, y_train_origin)\n",
    "\n",
    "# Model persistence\n",
    "from sklearn.externals import joblib\n",
    "joblib.dump(clf, os.path.join(save_to, 'linear_svm.pkl'))"
   ]
  },
  {
   "cell_type": "code",
   "execution_count": 9,
   "metadata": {
    "collapsed": false
   },
   "outputs": [
    {
     "name": "stdout",
     "output_type": "stream",
     "text": [
      "test acc =  0.992117117117\n",
      "CPU times: user 97.5 ms, sys: 411 ms, total: 509 ms\n",
      "Wall time: 1.01 s\n"
     ]
    }
   ],
   "source": [
    "# Test accuracy\n",
    "%time print('test acc = ', clf.score(X_test, y_test))"
   ]
  },
  {
   "cell_type": "code",
   "execution_count": null,
   "metadata": {
    "collapsed": true
   },
   "outputs": [],
   "source": []
  }
 ],
 "metadata": {
  "anaconda-cloud": {},
  "kernelspec": {
   "display_name": "Python [conda env:carnd-term1]",
   "language": "python",
   "name": "conda-env-carnd-term1-py"
  },
  "language_info": {
   "codemirror_mode": {
    "name": "ipython",
    "version": 3
   },
   "file_extension": ".py",
   "mimetype": "text/x-python",
   "name": "python",
   "nbconvert_exporter": "python",
   "pygments_lexer": "ipython3",
   "version": "3.5.2"
  }
 },
 "nbformat": 4,
 "nbformat_minor": 2
}
