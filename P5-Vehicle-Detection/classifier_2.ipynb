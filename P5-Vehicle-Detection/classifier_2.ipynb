{
 "cells": [
  {
   "cell_type": "code",
   "execution_count": 1,
   "metadata": {
    "collapsed": true
   },
   "outputs": [],
   "source": [
    "from imp import reload\n",
    "import glob\n",
    "import os\n",
    "\n",
    "import cv2\n",
    "\n",
    "import numpy as np\n",
    "import pandas as pd\n",
    "import matplotlib.pyplot as plt\n",
    "import matplotlib.image as mpimg\n",
    "%matplotlib inline"
   ]
  },
  {
   "cell_type": "code",
   "execution_count": 3,
   "metadata": {
    "collapsed": false
   },
   "outputs": [
    {
     "name": "stdout",
     "output_type": "stream",
     "text": [
      "vehicle = 8792 samples\n",
      "non-vehicle = 8968 samples\n"
     ]
    }
   ],
   "source": [
    "import utils; reload(utils)\n",
    "images, labels = utils.load_data(cv2.COLOR_BGR2YCR_CB)"
   ]
  },
  {
   "cell_type": "code",
   "execution_count": 4,
   "metadata": {
    "collapsed": false
   },
   "outputs": [
    {
     "name": "stdout",
     "output_type": "stream",
     "text": [
      "CPU times: user 1min 2s, sys: 1.05 s, total: 1min 3s\n",
      "Wall time: 1min 4s\n"
     ]
    }
   ],
   "source": [
    "import utils; reload(utils)\n",
    "%time hog_features = utils.get_hog_features(images)"
   ]
  },
  {
   "cell_type": "code",
   "execution_count": 6,
   "metadata": {
    "collapsed": true
   },
   "outputs": [],
   "source": [
    "from sklearn.utils import shuffle\n",
    "\n",
    "X, y = shuffle(hog_features, labels, random_state=0)"
   ]
  },
  {
   "cell_type": "code",
   "execution_count": 13,
   "metadata": {
    "collapsed": false
   },
   "outputs": [
    {
     "data": {
      "text/plain": [
       "['./classifiers/standard_scaler.pkl']"
      ]
     },
     "execution_count": 13,
     "metadata": {},
     "output_type": "execute_result"
    }
   ],
   "source": [
    "# Scaling\n",
    "from sklearn.preprocessing import StandardScaler\n",
    "\n",
    "scaler = StandardScaler()\n",
    "scaler.fit(X)\n",
    "X_scaled = scaler.transform(X)\n",
    "\n",
    "from sklearn.externals import joblib\n",
    "joblib.dump(scaler, './classifiers/standard_scaler.pkl')"
   ]
  },
  {
   "cell_type": "code",
   "execution_count": 11,
   "metadata": {
    "collapsed": false
   },
   "outputs": [],
   "source": [
    "# train, test split\n",
    "from sklearn.model_selection import train_test_split\n",
    "\n",
    "X_train_origin, X_test, y_train_origin, y_test = \\\n",
    "    train_test_split(X_scaled, y, random_state=0, stratify=y)"
   ]
  },
  {
   "cell_type": "markdown",
   "metadata": {},
   "source": [
    "### Linear SVM"
   ]
  },
  {
   "cell_type": "code",
   "execution_count": 12,
   "metadata": {
    "collapsed": false
   },
   "outputs": [
    {
     "name": "stdout",
     "output_type": "stream",
     "text": [
      "Start Fold 1\n",
      "Fit in 5.013053894042969\n",
      "Fold 1 in 6.8710479736328125\n",
      "Start Fold 2\n",
      "Fit in 3.6093149185180664\n",
      "Fold 2 in 4.4318859577178955\n",
      "Start Fold 3\n",
      "Fit in 12.19232988357544\n",
      "Fold 3 in 12.716301918029785\n",
      "Start Fold 4\n",
      "Fit in 12.10954213142395\n",
      "Fold 4 in 12.634108066558838\n",
      "Start Fold 5\n",
      "Fit in 13.80531907081604\n",
      "Fold 5 in 14.34412407875061\n",
      "   acc   val_acc\n",
      "0  1.0  0.987617\n",
      "1  1.0  0.985360\n",
      "2  1.0  0.985736\n",
      "3  1.0  0.987237\n",
      "4  1.0  0.988359\n"
     ]
    },
    {
     "data": {
      "text/plain": [
       "['linear_svm.pkl']"
      ]
     },
     "execution_count": 12,
     "metadata": {},
     "output_type": "execute_result"
    }
   ],
   "source": [
    "# Linear SVM\n",
    "import time\n",
    "\n",
    "from sklearn.model_selection import StratifiedKFold\n",
    "from sklearn.svm import LinearSVC\n",
    "\n",
    "\n",
    "# DataFrame to record cross validation result\n",
    "df_cv_linear_svc = pd.DataFrame()\n",
    "\n",
    "skf = StratifiedKFold(n_splits=5, shuffle=True, random_state=0)\n",
    "\n",
    "for i, (train_index, test_index) in enumerate(skf.split(X_train_origin, y_train_origin)):\n",
    "    print('Start Fold {}'.format(i + 1))\n",
    "    t0_fold = time.time()\n",
    "\n",
    "    X_train, y_train = X_train_origin[train_index], y_train_origin[train_index]\n",
    "    X_val, y_val = X_train_origin[test_index], y_train_origin[test_index]\n",
    "\n",
    "    clf = LinearSVC()\n",
    "    t0_fit = time.time()\n",
    "    clf.fit(X_train, y_train)\n",
    "    print('Fit in {}'.format(time.time() - t0_fit))\n",
    "\n",
    "    df_cv_linear_svc.loc[i, 'acc'] = clf.score(X_train, y_train)\n",
    "    df_cv_linear_svc.loc[i, 'val_acc'] = clf.score(X_val, y_val)\n",
    "    \n",
    "    print('Fold {} in {}'.format(i + 1, time.time() - t0_fold))\n",
    "\n",
    "print(df_cv_linear_svc)\n",
    "\n",
    "# Model persistence\n",
    "from sklearn.externals import joblib\n",
    "joblib.dump(clf, 'linear_svm.pkl')"
   ]
  },
  {
   "cell_type": "code",
   "execution_count": 14,
   "metadata": {
    "collapsed": false
   },
   "outputs": [
    {
     "name": "stdout",
     "output_type": "stream",
     "text": [
      "test acc =  0.968918918919\n",
      "CPU times: user 60.9 ms, sys: 197 ms, total: 258 ms\n",
      "Wall time: 407 ms\n"
     ]
    }
   ],
   "source": [
    "# Test accuracy\n",
    "%time print('test acc = ', clf.score(X_test, y_test))"
   ]
  },
  {
   "cell_type": "code",
   "execution_count": null,
   "metadata": {
    "collapsed": true
   },
   "outputs": [],
   "source": []
  }
 ],
 "metadata": {
  "anaconda-cloud": {},
  "kernelspec": {
   "display_name": "Python [conda env:carnd-term1]",
   "language": "python",
   "name": "conda-env-carnd-term1-py"
  },
  "language_info": {
   "codemirror_mode": {
    "name": "ipython",
    "version": 3
   },
   "file_extension": ".py",
   "mimetype": "text/x-python",
   "name": "python",
   "nbconvert_exporter": "python",
   "pygments_lexer": "ipython3",
   "version": "3.5.2"
  }
 },
 "nbformat": 4,
 "nbformat_minor": 2
}
