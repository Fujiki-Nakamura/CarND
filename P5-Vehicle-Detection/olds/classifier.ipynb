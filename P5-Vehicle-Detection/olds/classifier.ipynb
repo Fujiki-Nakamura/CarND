{
 "cells": [
  {
   "cell_type": "markdown",
   "metadata": {},
   "source": [
    "## Model Training"
   ]
  },
  {
   "cell_type": "code",
   "execution_count": 1,
   "metadata": {
    "collapsed": true
   },
   "outputs": [],
   "source": [
    "from imp import reload\n",
    "import glob\n",
    "import os\n",
    "\n",
    "import cv2\n",
    "\n",
    "import numpy as np\n",
    "import pandas as pd\n",
    "import matplotlib.pyplot as plt\n",
    "import matplotlib.image as mpimg\n",
    "%matplotlib inline\n",
    "\n",
    "save_to = 'classifiers/'\n",
    "if not os.path.exists(save_to):\n",
    "    os.makedirs(save_to)"
   ]
  },
  {
   "cell_type": "code",
   "execution_count": 3,
   "metadata": {
    "collapsed": false
   },
   "outputs": [
    {
     "name": "stdout",
     "output_type": "stream",
     "text": [
      "vehicle = 8792 samples\n",
      "non-vehicle = 8968 samples\n"
     ]
    }
   ],
   "source": [
    "%%time\n",
    "\n",
    "# Load the images\n",
    "from utils import utils\n",
    "reload(utils)\n",
    "\n",
    "images_rgb, labels = utils.load_data(cv2.COLOR_BGR2RGB)"
   ]
  },
  {
   "cell_type": "markdown",
   "metadata": {},
   "source": [
    "### Feature Extraction"
   ]
  },
  {
   "cell_type": "code",
   "execution_count": 5,
   "metadata": {
    "collapsed": false
   },
   "outputs": [
    {
     "name": "stdout",
     "output_type": "stream",
     "text": [
      "CPU times: user 1min 12s, sys: 978 ms, total: 1min 13s\n",
      "Wall time: 1min 14s\n"
     ]
    }
   ],
   "source": [
    "%%time\n",
    "\n",
    "from utils import feature_extraction\n",
    "reload(feature_extraction)\n",
    "\n",
    "features_list = []\n",
    "convert_to = cv2.COLOR_RGB2YCR_CB\n",
    "orientations = 9\n",
    "pixels_per_cell = (8, 8)\n",
    "cells_per_block = (2, 2)\n",
    "bin_spatial_size = (32, 32)\n",
    "\n",
    "\n",
    "for image in images_rgb:\n",
    "    # Color conversion\n",
    "    img_y_cr_cb = cv2.cvtColor(image, convert_to)\n",
    "\n",
    "    # HOG feature\n",
    "    hog_feature = feature_extraction.get_hog_features(\n",
    "        img_y_cr_cb, \n",
    "        hog_channels=[0, 1, 2],\n",
    "        orientations=orientations,\n",
    "        pixels_per_cell=pixels_per_cell,\n",
    "        cells_per_block=cells_per_block\n",
    "        )\n",
    "\n",
    "    # color hist feature\n",
    "    color_hist_feature = feature_extraction.color_hist(img_y_cr_cb)\n",
    "    \n",
    "    # image feature\n",
    "    image_feature = feature_extraction.bin_spatial(\n",
    "        img_y_cr_cb, \n",
    "        bin_spatial_size=bin_spatial_size\n",
    "    )\n",
    "\n",
    "    features_list.append(np.concatenate((hog_feature, color_hist_feature, image_feature)))"
   ]
  },
  {
   "cell_type": "code",
   "execution_count": 6,
   "metadata": {
    "collapsed": false
   },
   "outputs": [
    {
     "name": "stdout",
     "output_type": "stream",
     "text": [
      "X.shape = (17760, 8460)\n"
     ]
    }
   ],
   "source": [
    "from sklearn.utils import shuffle\n",
    "\n",
    "X, y = shuffle(np.array(features_list), labels, random_state=0)\n",
    "print('X.shape = {}'.format(X.shape))"
   ]
  },
  {
   "cell_type": "markdown",
   "metadata": {},
   "source": [
    "### Feature Scaling"
   ]
  },
  {
   "cell_type": "code",
   "execution_count": 7,
   "metadata": {
    "collapsed": false
   },
   "outputs": [
    {
     "data": {
      "text/plain": [
       "['./classifiers/standard_scaler.pkl']"
      ]
     },
     "execution_count": 7,
     "metadata": {},
     "output_type": "execute_result"
    }
   ],
   "source": [
    "# Scaling\n",
    "from sklearn.preprocessing import StandardScaler\n",
    "\n",
    "scaler = StandardScaler()\n",
    "scaler.fit(X)\n",
    "X_scaled = scaler.transform(X)\n",
    "\n",
    "from sklearn.externals import joblib\n",
    "joblib.dump(scaler, './classifiers/standard_scaler.pkl')"
   ]
  },
  {
   "cell_type": "markdown",
   "metadata": {},
   "source": [
    "### Train, Test Split"
   ]
  },
  {
   "cell_type": "code",
   "execution_count": 8,
   "metadata": {
    "collapsed": false
   },
   "outputs": [],
   "source": [
    "# train, test split\n",
    "from sklearn.model_selection import train_test_split\n",
    "\n",
    "X_train_origin, X_test, y_train_origin, y_test = \\\n",
    "    train_test_split(X_scaled, y, random_state=0, stratify=y)"
   ]
  },
  {
   "cell_type": "markdown",
   "metadata": {},
   "source": [
    "### Training Linear SVM\n",
    "- 5-Fold Cross Validation"
   ]
  },
  {
   "cell_type": "code",
   "execution_count": 9,
   "metadata": {
    "collapsed": false
   },
   "outputs": [
    {
     "name": "stdout",
     "output_type": "stream",
     "text": [
      "Start Fold 1\n",
      "Fit in 8.35919713973999\n",
      "Fold 1 in 12.69511604309082\n",
      "Start Fold 2\n",
      "Fit in 3.4131338596343994\n",
      "Fold 2 in 5.279833793640137\n",
      "Start Fold 3\n",
      "Fit in 4.13627290725708\n",
      "Fold 3 in 4.8702781200408936\n",
      "Start Fold 4\n",
      "Fit in 3.1502370834350586\n",
      "Fold 4 in 3.8338019847869873\n",
      "Start Fold 5\n",
      "Fit in 3.2316789627075195\n",
      "Fold 5 in 3.9542880058288574\n",
      "   acc   val_acc\n",
      "0  1.0  0.994371\n",
      "1  1.0  0.991742\n",
      "2  1.0  0.993243\n",
      "3  1.0  0.990616\n",
      "4  1.0  0.992114\n"
     ]
    }
   ],
   "source": [
    "# Linear SVM\n",
    "import time\n",
    "\n",
    "from sklearn.model_selection import StratifiedKFold\n",
    "from sklearn.svm import LinearSVC\n",
    "\n",
    "\n",
    "# DataFrame to record cross validation result\n",
    "df_cv_linear_svc = pd.DataFrame()\n",
    "\n",
    "skf = StratifiedKFold(n_splits=5, shuffle=True, random_state=0)\n",
    "\n",
    "for i, (train_index, test_index) in enumerate(skf.split(X_train_origin, y_train_origin)):\n",
    "    print('Start Fold {}'.format(i + 1))\n",
    "    t0_fold = time.time()\n",
    "\n",
    "    X_train, y_train = X_train_origin[train_index], y_train_origin[train_index]\n",
    "    X_val, y_val = X_train_origin[test_index], y_train_origin[test_index]\n",
    "\n",
    "    clf = LinearSVC()\n",
    "    t0_fit = time.time()\n",
    "    clf.fit(X_train, y_train)\n",
    "    print('Fit in {}'.format(time.time() - t0_fit))\n",
    "\n",
    "    df_cv_linear_svc.loc[i, 'acc'] = clf.score(X_train, y_train)\n",
    "    df_cv_linear_svc.loc[i, 'val_acc'] = clf.score(X_val, y_val)\n",
    "    \n",
    "    print('Fold {} in {}'.format(i + 1, time.time() - t0_fold))\n",
    "\n",
    "print(df_cv_linear_svc)"
   ]
  },
  {
   "cell_type": "markdown",
   "metadata": {},
   "source": [
    "### Test"
   ]
  },
  {
   "cell_type": "code",
   "execution_count": 10,
   "metadata": {
    "collapsed": false
   },
   "outputs": [
    {
     "name": "stdout",
     "output_type": "stream",
     "text": [
      "CPU times: user 4.22 s, sys: 2.7 s, total: 6.91 s\n",
      "Wall time: 9.34 s\n"
     ]
    }
   ],
   "source": [
    "%%time\n",
    "\n",
    "# Train for test\n",
    "clf = LinearSVC()\n",
    "clf.fit(X_train_origin, y_train_origin)\n",
    "\n",
    "# Model persistence\n",
    "from sklearn.externals import joblib\n",
    "joblib.dump(clf, os.path.join(save_to, 'linear_svm.pkl'))"
   ]
  },
  {
   "cell_type": "code",
   "execution_count": 11,
   "metadata": {
    "collapsed": false
   },
   "outputs": [
    {
     "name": "stdout",
     "output_type": "stream",
     "text": [
      "test acc =  0.994594594595\n",
      "CPU times: user 101 ms, sys: 452 ms, total: 554 ms\n",
      "Wall time: 1.25 s\n"
     ]
    }
   ],
   "source": [
    "# Test accuracy\n",
    "%time print('test acc = ', clf.score(X_test, y_test))"
   ]
  },
  {
   "cell_type": "code",
   "execution_count": null,
   "metadata": {
    "collapsed": true
   },
   "outputs": [],
   "source": []
  }
 ],
 "metadata": {
  "anaconda-cloud": {},
  "kernelspec": {
   "display_name": "Python [conda env:carnd-term1]",
   "language": "python",
   "name": "conda-env-carnd-term1-py"
  },
  "language_info": {
   "codemirror_mode": {
    "name": "ipython",
    "version": 3
   },
   "file_extension": ".py",
   "mimetype": "text/x-python",
   "name": "python",
   "nbconvert_exporter": "python",
   "pygments_lexer": "ipython3",
   "version": "3.5.2"
  }
 },
 "nbformat": 4,
 "nbformat_minor": 2
}
