{
 "cells": [
  {
   "cell_type": "markdown",
   "metadata": {},
   "source": [
    "# Traffic Sign Classification with Keras\n",
    "\n",
    "Keras exists to make coding deep neural networks simpler. To demonstrate just how easy it is, you’re going to use Keras to build a convolutional neural network in a few dozen lines of code.\n",
    "\n",
    "You’ll be connecting the concepts from the previous lessons to the methods that Keras provides."
   ]
  },
  {
   "cell_type": "markdown",
   "metadata": {},
   "source": [
    "## Dataset\n",
    "\n",
    "The network you'll build with Keras is similar to the example that you can find in Keras’s GitHub repository that builds out a [convolutional neural network for MNIST](https://github.com/fchollet/keras/blob/master/examples/mnist_cnn.py). \n",
    "\n",
    "However, instead of using the [MNIST](http://yann.lecun.com/exdb/mnist/) dataset, you're going to use the [German Traffic Sign Recognition Benchmark](http://benchmark.ini.rub.de/?section=gtsrb&subsection=news) dataset that you've used previously.\n",
    "\n",
    "You can download pickle files with sanitized traffic sign data here."
   ]
  },
  {
   "cell_type": "markdown",
   "metadata": {},
   "source": [
    "## Overview\n",
    "\n",
    "Here are the steps you'll take to build the network:\n",
    "\n",
    "1. First load the training data and do a train/validation split.\n",
    "2. Preprocess data.\n",
    "3. Build a feedforward neural network to classify traffic signs.\n",
    "4. Build a convolutional neural network to classify traffic signs.\n",
    "5. Evaluate performance of final neural network on testing data.\n",
    "\n",
    "Keep an eye on the network’s accuracy over time. Once the accuracy reaches the 98% range, you can be confident that you’ve built and trained an effective model."
   ]
  },
  {
   "cell_type": "code",
   "execution_count": 1,
   "metadata": {
    "collapsed": false
   },
   "outputs": [],
   "source": [
    "import pickle\n",
    "import numpy as np\n",
    "from sklearn.model_selection import train_test_split\n",
    "import math"
   ]
  },
  {
   "cell_type": "markdown",
   "metadata": {},
   "source": [
    "## Load the Data\n",
    "\n",
    "Start by importing the data from the pickle file."
   ]
  },
  {
   "cell_type": "code",
   "execution_count": 15,
   "metadata": {
    "collapsed": false
   },
   "outputs": [],
   "source": [
    "# TODO: Implement load the data here.\n",
    "with open('train.p', 'rb') as f:\n",
    "    data = pickle.load(f)"
   ]
  },
  {
   "cell_type": "markdown",
   "metadata": {},
   "source": [
    "## Validate the Network\n",
    "Split the training data into a training and validation set.\n",
    "\n",
    "Measure the [validation accuracy](https://keras.io/models/sequential/) of the network after two training epochs.\n",
    "\n",
    "Hint: [Use the `train_test_split()` method](http://scikit-learn.org/stable/modules/generated/sklearn.model_selection.train_test_split.html) from scikit-learn."
   ]
  },
  {
   "cell_type": "code",
   "execution_count": 16,
   "metadata": {
    "collapsed": true
   },
   "outputs": [],
   "source": [
    "# TODO: Use `train_test_split` here.\n",
    "X_train, X_val, y_train, y_val = train_test_split(data['features'], data['labels'], random_state=0, test_size=0.33)"
   ]
  },
  {
   "cell_type": "code",
   "execution_count": 17,
   "metadata": {
    "collapsed": true
   },
   "outputs": [],
   "source": [
    "# STOP: Do not change the tests below. Your implementation should pass these tests. \n",
    "assert(X_train.shape[0] == y_train.shape[0]), \"The number of images is not equal to the number of labels.\"\n",
    "assert(X_train.shape[1:] == (32,32,3)), \"The dimensions of the images are not 32 x 32 x 3.\"\n",
    "assert(X_val.shape[0] == y_val.shape[0]), \"The number of images is not equal to the number of labels.\"\n",
    "assert(X_val.shape[1:] == (32,32,3)), \"The dimensions of the images are not 32 x 32 x 3.\""
   ]
  },
  {
   "cell_type": "markdown",
   "metadata": {},
   "source": [
    "## Preprocess the Data\n",
    "\n",
    "Now that you've loaded the training data, preprocess the data such that it's in the range between -0.5 and 0.5."
   ]
  },
  {
   "cell_type": "code",
   "execution_count": 5,
   "metadata": {
    "collapsed": false
   },
   "outputs": [
    {
     "data": {
      "image/png": "[encoded data removed]",
      "text/plain": [
       "<matplotlib.figure.Figure at 0x10b9b3cc0>"
      ]
     },
     "metadata": {},
     "output_type": "display_data"
    }
   ],
   "source": [
    "import matplotlib.pyplot as plt\n",
    "plt.figure(figsize=(1, 1))\n",
    "plt.imshow(X_val[0])\n",
    "plt.show()"
   ]
  },
  {
   "cell_type": "code",
   "execution_count": 18,
   "metadata": {
    "collapsed": false
   },
   "outputs": [],
   "source": [
    "# TODO: Implement data normalization here.\n",
    "X_train = X_train / 255 - 0.5\n",
    "X_val = X_val / 255 - 0.5"
   ]
  },
  {
   "cell_type": "code",
   "execution_count": 19,
   "metadata": {
    "collapsed": true
   },
   "outputs": [],
   "source": [
    "# STOP: Do not change the tests below. Your implementation should pass these tests. \n",
    "assert(math.isclose(np.min(X_train), -0.5, abs_tol=1e-5) and math.isclose(np.max(X_train), 0.5, abs_tol=1e-5)), \"The range of the training data is: %.1f to %.1f\" % (np.min(X_train), np.max(X_train))\n",
    "assert(math.isclose(np.min(X_val), -0.5, abs_tol=1e-5) and math.isclose(np.max(X_val), 0.5, abs_tol=1e-5)), \"The range of the validation data is: %.1f to %.1f\" % (np.min(X_val), np.max(X_val))"
   ]
  },
  {
   "cell_type": "markdown",
   "metadata": {},
   "source": [
    "## Build a Two-Layer Feedfoward Network\n",
    "\n",
    "The code you've written so far is for data processing, not specific to Keras. Here you're going to build Keras-specific code.\n",
    "\n",
    "Build a two-layer feedforward neural network, with 128 neurons in the fully-connected hidden layer. \n",
    "\n",
    "To get started, review the Keras documentation about [models](https://keras.io/models/sequential/) and [layers](https://keras.io/layers/core/).\n",
    "\n",
    "The Keras example of a [Multi-Layer Perceptron](https://github.com/fchollet/keras/blob/master/examples/mnist_mlp.py) network is similar to what you need to do here. Use that as a guide, but keep in mind that there are a number of differences."
   ]
  },
  {
   "cell_type": "code",
   "execution_count": 8,
   "metadata": {
    "collapsed": false
   },
   "outputs": [
    {
     "name": "stderr",
     "output_type": "stream",
     "text": [
      "Using TensorFlow backend.\n"
     ]
    }
   ],
   "source": [
    "# TODO: Build a two-layer feedforward neural network with Keras here.\n",
    "from keras.models import Sequential\n",
    "from keras.layers.core import Dense, Activation\n",
    "\n",
    "model = Sequential()\n",
    "\n",
    "model.add(Dense(128, input_shape=(32*32*3, )))\n",
    "model.add(Activation('relu'))\n",
    "\n",
    "model.add(Dense(43))\n",
    "model.add(Activation('softmax'))"
   ]
  },
  {
   "cell_type": "code",
   "execution_count": 9,
   "metadata": {
    "collapsed": false
   },
   "outputs": [],
   "source": [
    "# STOP: Do not change the tests below. Your implementation should pass these tests.\n",
    "dense_layers = []\n",
    "for l in model.layers:\n",
    "    if type(l) == Dense:\n",
    "        dense_layers.append(l)\n",
    "assert(len(dense_layers) == 2), \"There should be 2 Dense layers.\"\n",
    "d1 = dense_layers[0]\n",
    "d2 = dense_layers[1]\n",
    "assert(d1.input_shape == (None, 3072))\n",
    "assert(d1.output_shape == (None, 128))\n",
    "assert(d2.input_shape == (None, 128))\n",
    "assert(d2.output_shape == (None, 43))\n",
    "\n",
    "last_layer = model.layers[-1]\n",
    "assert(last_layer.activation.__name__ == 'softmax'), \"Last layer should be softmax activation, is {}.\".format(last_layer.activation.__name__)"
   ]
  },
  {
   "cell_type": "code",
   "execution_count": 10,
   "metadata": {
    "collapsed": false
   },
   "outputs": [
    {
     "name": "stdout",
     "output_type": "stream",
     "text": [
      "dense_1 (None, 3072) (None, 128) <function linear at 0x126fba6a8>\n",
      "activation_1 (None, 128) (None, 128) <function relu at 0x126fba488>\n",
      "dense_2 (None, 128) (None, 43) <function linear at 0x126fba6a8>\n",
      "activation_2 (None, 43) (None, 43) <function softmax at 0x126fba1e0>\n"
     ]
    }
   ],
   "source": [
    "# Debugging\n",
    "for l in model.layers:\n",
    "    print(l.name, l.input_shape, l.output_shape, l.activation)"
   ]
  },
  {
   "cell_type": "markdown",
   "metadata": {},
   "source": [
    "## Train the Network\n",
    "Compile and train the network for 2 epochs. [Use the `adam` optimizer, with `categorical_crossentropy` loss.](https://keras.io/models/sequential/)\n",
    "\n",
    "Hint 1: In order to use categorical cross entropy, you will need to [one-hot encode the labels](https://github.com/fchollet/keras/blob/master/keras/utils/np_utils.py).\n",
    "\n",
    "Hint 2: In order to pass the input images to the fully-connected hidden layer, you will need to [reshape the input](https://github.com/fchollet/keras/blob/master/examples/mnist_mlp.py).\n",
    "\n",
    "Hint 3: Keras's `.fit()` method returns a `History.history` object, which the tests below use. Save that to a variable named `history`."
   ]
  },
  {
   "cell_type": "code",
   "execution_count": 11,
   "metadata": {
    "collapsed": false
   },
   "outputs": [],
   "source": [
    "from keras.utils import np_utils\n",
    "\n",
    "# reshape the input\n",
    "X_train_flat = X_train.reshape(X_train.shape[0], X_train.shape[1] * X_train.shape[2] * X_train.shape[3]) \n",
    "X_val_flat = X_val.reshape(X_val.shape[0], X_val.shape[1] * X_val.shape[2] * X_val.shape[3])\n",
    "\n",
    "# one-hot encode the labels\n",
    "Y_train = np_utils.to_categorical(y_train)\n",
    "Y_val = np_utils.to_categorical(y_val)"
   ]
  },
  {
   "cell_type": "code",
   "execution_count": 12,
   "metadata": {
    "collapsed": false
   },
   "outputs": [
    {
     "name": "stdout",
     "output_type": "stream",
     "text": [
      "Train on 26270 samples, validate on 12939 samples\n",
      "Epoch 1/10\n",
      "26270/26270 [==============================] - 5s - loss: 1.9360 - acc: 0.5008 - val_loss: 1.1789 - val_acc: 0.6897\n",
      "Epoch 2/10\n",
      "26270/26270 [==============================] - 4s - loss: 0.9533 - acc: 0.7478 - val_loss: 0.7804 - val_acc: 0.8035\n",
      "Epoch 3/10\n",
      "26270/26270 [==============================] - 4s - loss: 0.6741 - acc: 0.8249 - val_loss: 0.6346 - val_acc: 0.8345\n",
      "Epoch 4/10\n",
      "26270/26270 [==============================] - 4s - loss: 0.5440 - acc: 0.8588 - val_loss: 0.5281 - val_acc: 0.8522\n",
      "Epoch 5/10\n",
      "26270/26270 [==============================] - 4s - loss: 0.4536 - acc: 0.8842 - val_loss: 0.4651 - val_acc: 0.8835\n",
      "Epoch 6/10\n",
      "26270/26270 [==============================] - 5s - loss: 0.3967 - acc: 0.8951 - val_loss: 0.4475 - val_acc: 0.8780\n",
      "Epoch 7/10\n",
      "26270/26270 [==============================] - 5s - loss: 0.3488 - acc: 0.9095 - val_loss: 0.4876 - val_acc: 0.8640\n",
      "Epoch 8/10\n",
      "26270/26270 [==============================] - 5s - loss: 0.3078 - acc: 0.9223 - val_loss: 0.3239 - val_acc: 0.9236\n",
      "Epoch 9/10\n",
      "26270/26270 [==============================] - 4s - loss: 0.3008 - acc: 0.9205 - val_loss: 0.3215 - val_acc: 0.9154\n",
      "Epoch 10/10\n",
      "26270/26270 [==============================] - 4s - loss: 0.2618 - acc: 0.9308 - val_loss: 0.3065 - val_acc: 0.9171\n"
     ]
    }
   ],
   "source": [
    "# TODO: Compile and train the model here.\n",
    "model.compile(loss='categorical_crossentropy', optimizer='adam', metrics=['accuracy'])\n",
    "history = \\\n",
    "model.fit(X_train_flat, Y_train,\n",
    "                 batch_size=128, nb_epoch=10, \n",
    "                 verbose=1, validation_data=(X_val_flat, Y_val))"
   ]
  },
  {
   "cell_type": "code",
   "execution_count": 14,
   "metadata": {
    "collapsed": false
   },
   "outputs": [],
   "source": [
    "# STOP: Do not change the tests below. Your implementation should pass these tests.\n",
    "assert(history.history['acc'][-1] > 0.92), \"The training accuracy was: %.3f\" % history.history['acc'][-1]\n",
    "assert(history.history['val_acc'][-1] > 0.9), \"The validation accuracy is: %.3f\" % history.history['val_acc'][-1]"
   ]
  },
  {
   "cell_type": "markdown",
   "metadata": {},
   "source": [
    "**Validation Accuracy**: 0.9171"
   ]
  },
  {
   "cell_type": "markdown",
   "metadata": {},
   "source": [
    "## Congratulations\n",
    "You've built a feedforward neural network in Keras!\n",
    "\n",
    "Don't stop here! Next, you'll add a convolutional layer to drive.py."
   ]
  },
  {
   "cell_type": "markdown",
   "metadata": {},
   "source": [
    "## Convolutions\n",
    "Build a new network, similar to your existing network. Before the hidden layer, add a 3x3 [convolutional layer](https://keras.io/layers/convolutional/#convolution2d) with 32 filters and valid padding.\n",
    "\n",
    "Then compile and train the network.\n",
    "\n",
    "Hint 1: The Keras example of a [convolutional neural network](https://github.com/fchollet/keras/blob/master/examples/mnist_cnn.py) for MNIST would be a good example to review.\n",
    "\n",
    "Hint 2: Now that the first layer of the network is a convolutional layer, you no longer need to reshape the input images before passing them to the network. You might need to reload your training data to recover the original shape.\n",
    "\n",
    "Hint 3: Add a [`Flatten()` layer](https://keras.io/layers/core/#flatten) between the convolutional layer and the fully-connected hidden layer."
   ]
  },
  {
   "cell_type": "code",
   "execution_count": 20,
   "metadata": {
    "collapsed": false
   },
   "outputs": [],
   "source": [
    "# TODO: Re-construct the network and add a convolutional layer before the first fully-connected layer.\n",
    "from keras.layers import Convolution2D\n",
    "from keras.layers import Flatten\n",
    "\n",
    "assert(X_train.shape[1:] == (32, 32, 3))\n",
    "assert(X_val.shape[1:] == (32, 32, 3))\n",
    "\n",
    "model = Sequential()\n",
    "\n",
    "model.add(Convolution2D(32, 3, 3, input_shape=(32, 32, 3), border_mode='valid'))\n",
    "model.add(Activation('relu'))\n",
    "\n",
    "model.add(Flatten())\n",
    "model.add(Dense(128))\n",
    "model.add(Activation('relu'))\n",
    "\n",
    "model.add(Dense(43))\n",
    "model.add(Activation('softmax'))"
   ]
  },
  {
   "cell_type": "code",
   "execution_count": 21,
   "metadata": {
    "collapsed": false
   },
   "outputs": [
    {
     "name": "stdout",
     "output_type": "stream",
     "text": [
      "convolution2d_1 (None, 32, 32, 3) (None, 30, 30, 32) <function linear at 0x126fba6a8>\n",
      "activation_3 (None, 30, 30, 32) (None, 30, 30, 32) <function relu at 0x126fba488>\n",
      "flatten_1 (None, 30, 30, 32) (None, 28800)\n",
      "dense_3 (None, 28800) (None, 128) <function linear at 0x126fba6a8>\n",
      "activation_4 (None, 128) (None, 128) <function relu at 0x126fba488>\n",
      "dense_4 (None, 128) (None, 43) <function linear at 0x126fba6a8>\n",
      "activation_5 (None, 43) (None, 43) <function softmax at 0x126fba1e0>\n"
     ]
    }
   ],
   "source": [
    "# Debugging\n",
    "for l in model.layers:\n",
    "    try:\n",
    "        print(l.name, l.input_shape, l.output_shape, l.activation)\n",
    "    except:\n",
    "        print(l.name, l.input_shape, l.output_shape)"
   ]
  },
  {
   "cell_type": "code",
   "execution_count": 22,
   "metadata": {
    "collapsed": false,
    "scrolled": true
   },
   "outputs": [
    {
     "name": "stdout",
     "output_type": "stream",
     "text": [
      "Train on 26270 samples, validate on 12939 samples\n",
      "Epoch 1/10\n",
      "26270/26270 [==============================] - 47s - loss: 1.4117 - acc: 0.6309 - val_loss: 0.5565 - val_acc: 0.8476\n",
      "Epoch 2/10\n",
      "26270/26270 [==============================] - 47s - loss: 0.3604 - acc: 0.9100 - val_loss: 0.2946 - val_acc: 0.9286\n",
      "Epoch 3/10\n",
      "26270/26270 [==============================] - 49s - loss: 0.1836 - acc: 0.9581 - val_loss: 0.2094 - val_acc: 0.9463\n",
      "Epoch 4/10\n",
      "26270/26270 [==============================] - 45s - loss: 0.1210 - acc: 0.9727 - val_loss: 0.1627 - val_acc: 0.9610\n",
      "Epoch 5/10\n",
      "26270/26270 [==============================] - 45s - loss: 0.0854 - acc: 0.9815 - val_loss: 0.2338 - val_acc: 0.9412\n",
      "Epoch 6/10\n",
      "26270/26270 [==============================] - 51s - loss: 0.0643 - acc: 0.9859 - val_loss: 0.1324 - val_acc: 0.9692\n",
      "Epoch 7/10\n",
      "26270/26270 [==============================] - 43s - loss: 0.0473 - acc: 0.9904 - val_loss: 0.1362 - val_acc: 0.9672\n",
      "Epoch 8/10\n",
      "26270/26270 [==============================] - 50s - loss: 0.0336 - acc: 0.9936 - val_loss: 0.1346 - val_acc: 0.9692\n",
      "Epoch 9/10\n",
      "26270/26270 [==============================] - 50s - loss: 0.0315 - acc: 0.9936 - val_loss: 0.1580 - val_acc: 0.9614\n",
      "Epoch 10/10\n",
      "26270/26270 [==============================] - 53s - loss: 0.0315 - acc: 0.9930 - val_loss: 0.1295 - val_acc: 0.9719\n"
     ]
    }
   ],
   "source": [
    "# TODO: Compile and train the model here.\n",
    "model.compile(loss='categorical_crossentropy', optimizer='adam', metrics=['accuracy'])\n",
    "\n",
    "history = \\\n",
    "model.fit(X_train, Y_train, \n",
    "                 batch_size=128, nb_epoch=10, \n",
    "                 verbose=1, validation_data=(X_val, Y_val))"
   ]
  },
  {
   "cell_type": "code",
   "execution_count": 23,
   "metadata": {
    "collapsed": false
   },
   "outputs": [],
   "source": [
    "# STOP: Do not change the tests below. Your implementation should pass these tests.\n",
    "assert(history.history['val_acc'][-1] > 0.95), \"The validation accuracy is: %.3f\" % history.history['val_acc'][-1]"
   ]
  },
  {
   "cell_type": "markdown",
   "metadata": {},
   "source": [
    "**Validation Accuracy**: "
   ]
  },
  {
   "cell_type": "markdown",
   "metadata": {},
   "source": [
    "## Pooling\n",
    "Re-construct your network and add a 2x2 [pooling layer](https://keras.io/layers/pooling/#maxpooling2d) immediately following your convolutional layer.\n",
    "\n",
    "Then compile and train the network."
   ]
  },
  {
   "cell_type": "code",
   "execution_count": 24,
   "metadata": {
    "collapsed": false
   },
   "outputs": [],
   "source": [
    "from keras.layers import MaxPooling2D\n",
    "\n",
    "model = Sequential()\n",
    "\n",
    "model.add(Convolution2D(32, 3, 3, input_shape=(32, 32, 3), border_mode='valid'))\n",
    "model.add(MaxPooling2D(pool_size=(2, 2)))\n",
    "model.add(Activation('relu'))\n",
    "\n",
    "model.add(Flatten())\n",
    "model.add(Dense(128))\n",
    "model.add(Activation('relu'))\n",
    "\n",
    "model.add(Dense(43))\n",
    "model.add(Activation('softmax'))\n",
    "\n",
    "model.compile(loss='categorical_crossentropy', optimizer='adam', metrics=['accuracy'])"
   ]
  },
  {
   "cell_type": "code",
   "execution_count": 25,
   "metadata": {
    "collapsed": false
   },
   "outputs": [
    {
     "name": "stdout",
     "output_type": "stream",
     "text": [
      "convolution2d_2 (None, 32, 32, 3) (None, 30, 30, 32) <function linear at 0x126fba6a8>\n",
      "maxpooling2d_1 (None, 30, 30, 32) (None, 15, 15, 32)\n",
      "activation_6 (None, 15, 15, 32) (None, 15, 15, 32) <function relu at 0x126fba488>\n",
      "flatten_2 (None, 15, 15, 32) (None, 7200)\n",
      "dense_5 (None, 7200) (None, 128) <function linear at 0x126fba6a8>\n",
      "activation_7 (None, 128) (None, 128) <function relu at 0x126fba488>\n",
      "dense_6 (None, 128) (None, 43) <function linear at 0x126fba6a8>\n",
      "activation_8 (None, 43) (None, 43) <function softmax at 0x126fba1e0>\n"
     ]
    }
   ],
   "source": [
    "# Debug\n",
    "for l in model.layers:\n",
    "    try:\n",
    "        print(l.name, l.input_shape, l.output_shape, l.activation)\n",
    "    except:\n",
    "        print(l.name, l.input_shape, l.output_shape)"
   ]
  },
  {
   "cell_type": "code",
   "execution_count": 26,
   "metadata": {
    "collapsed": false
   },
   "outputs": [
    {
     "name": "stdout",
     "output_type": "stream",
     "text": [
      "Train on 26270 samples, validate on 12939 samples\n",
      "Epoch 1/10\n",
      "26270/26270 [==============================] - 28s - loss: 1.7359 - acc: 0.5436 - val_loss: 0.8417 - val_acc: 0.7634\n",
      "Epoch 2/10\n",
      "26270/26270 [==============================] - 28s - loss: 0.5450 - acc: 0.8602 - val_loss: 0.3901 - val_acc: 0.9121\n",
      "Epoch 3/10\n",
      "26270/26270 [==============================] - 28s - loss: 0.2855 - acc: 0.9370 - val_loss: 0.2571 - val_acc: 0.9424\n",
      "Epoch 4/10\n",
      "26270/26270 [==============================] - 28s - loss: 0.1955 - acc: 0.9557 - val_loss: 0.2070 - val_acc: 0.9516\n",
      "Epoch 5/10\n",
      "26270/26270 [==============================] - 28s - loss: 0.1319 - acc: 0.9734 - val_loss: 0.1763 - val_acc: 0.9569\n",
      "Epoch 6/10\n",
      "26270/26270 [==============================] - 29s - loss: 0.1051 - acc: 0.9780 - val_loss: 0.1572 - val_acc: 0.9625\n",
      "Epoch 7/10\n",
      "26270/26270 [==============================] - 27s - loss: 0.0827 - acc: 0.9839 - val_loss: 0.1341 - val_acc: 0.9704\n",
      "Epoch 8/10\n",
      "26270/26270 [==============================] - 26s - loss: 0.0590 - acc: 0.9896 - val_loss: 0.1375 - val_acc: 0.9686\n",
      "Epoch 9/10\n",
      "26270/26270 [==============================] - 27s - loss: 0.0493 - acc: 0.9907 - val_loss: 0.1193 - val_acc: 0.9718\n",
      "Epoch 10/10\n",
      "26270/26270 [==============================] - 29s - loss: 0.0435 - acc: 0.9913 - val_loss: 0.1193 - val_acc: 0.9726\n"
     ]
    }
   ],
   "source": [
    "history = \\\n",
    "model.fit(X_train, Y_train,\n",
    "                 batch_size=128, nb_epoch=10,\n",
    "                 validation_data=(X_val, Y_val))"
   ]
  },
  {
   "cell_type": "code",
   "execution_count": 27,
   "metadata": {
    "collapsed": true
   },
   "outputs": [],
   "source": [
    "# STOP: Do not change the tests below. Your implementation should pass these tests.\n",
    "assert(history.history['val_acc'][-1] > 0.95), \"The validation accuracy is: %.3f\" % history.history['val_acc'][-1]"
   ]
  },
  {
   "cell_type": "markdown",
   "metadata": {},
   "source": [
    "**Validation Accuracy**: "
   ]
  },
  {
   "cell_type": "markdown",
   "metadata": {},
   "source": [
    "## Dropout\n",
    "Re-construct your network and add [dropout](https://keras.io/layers/core/#dropout) after the pooling layer. Set the dropout rate to 50%."
   ]
  },
  {
   "cell_type": "code",
   "execution_count": 28,
   "metadata": {
    "collapsed": false
   },
   "outputs": [],
   "source": [
    "from keras.layers import Dropout\n",
    "\n",
    "model = Sequential()\n",
    "\n",
    "model.add(Convolution2D(32, 3, 3, input_shape=(32, 32, 3), border_mode='valid'))\n",
    "model.add(MaxPooling2D(pool_size=(2, 2)))\n",
    "model.add(Dropout(0.5))\n",
    "model.add(Activation('relu'))\n",
    "\n",
    "model.add(Flatten())\n",
    "model.add(Dense(128))\n",
    "model.add(Activation('relu'))\n",
    "\n",
    "model.add(Dense(43))\n",
    "model.add(Activation('softmax'))\n",
    "          \n",
    "model.compile(loss='categorical_crossentropy', optimizer='adam', metrics=['accuracy'])"
   ]
  },
  {
   "cell_type": "code",
   "execution_count": 29,
   "metadata": {
    "collapsed": false
   },
   "outputs": [
    {
     "name": "stdout",
     "output_type": "stream",
     "text": [
      "convolution2d_3 (None, 32, 32, 3) (None, 30, 30, 32) <function linear at 0x126fba6a8>\n",
      "maxpooling2d_2 (None, 30, 30, 32) (None, 15, 15, 32)\n",
      "dropout_1 (None, 15, 15, 32) (None, 15, 15, 32)\n",
      "activation_9 (None, 15, 15, 32) (None, 15, 15, 32) <function relu at 0x126fba488>\n",
      "flatten_3 (None, 15, 15, 32) (None, 7200)\n",
      "dense_7 (None, 7200) (None, 128) <function linear at 0x126fba6a8>\n",
      "activation_10 (None, 128) (None, 128) <function relu at 0x126fba488>\n",
      "dense_8 (None, 128) (None, 43) <function linear at 0x126fba6a8>\n",
      "activation_11 (None, 43) (None, 43) <function softmax at 0x126fba1e0>\n"
     ]
    }
   ],
   "source": [
    "# Debug\n",
    "for l in model.layers:\n",
    "    try:\n",
    "        print(l.name, l.input_shape, l.output_shape, l.activation)\n",
    "    except:\n",
    "        print(l.name, l.input_shape, l.output_shape)"
   ]
  },
  {
   "cell_type": "code",
   "execution_count": 30,
   "metadata": {
    "collapsed": false
   },
   "outputs": [
    {
     "name": "stdout",
     "output_type": "stream",
     "text": [
      "Train on 26270 samples, validate on 12939 samples\n",
      "Epoch 1/10\n",
      "26270/26270 [==============================] - 32s - loss: 1.8105 - acc: 0.5167 - val_loss: 0.8815 - val_acc: 0.7653\n",
      "Epoch 2/10\n",
      "26270/26270 [==============================] - 31s - loss: 0.6465 - acc: 0.8239 - val_loss: 0.4246 - val_acc: 0.8944\n",
      "Epoch 3/10\n",
      "26270/26270 [==============================] - 31s - loss: 0.3850 - acc: 0.8997 - val_loss: 0.2704 - val_acc: 0.9447\n",
      "Epoch 4/10\n",
      "26270/26270 [==============================] - 31s - loss: 0.2720 - acc: 0.9304 - val_loss: 0.2369 - val_acc: 0.9413\n",
      "Epoch 5/10\n",
      "26270/26270 [==============================] - 29s - loss: 0.2189 - acc: 0.9442 - val_loss: 0.1773 - val_acc: 0.9626\n",
      "Epoch 6/10\n",
      "26270/26270 [==============================] - 30s - loss: 0.1753 - acc: 0.9541 - val_loss: 0.1621 - val_acc: 0.9624\n",
      "Epoch 7/10\n",
      "26270/26270 [==============================] - 32s - loss: 0.1524 - acc: 0.9596 - val_loss: 0.1423 - val_acc: 0.9668\n",
      "Epoch 8/10\n",
      "26270/26270 [==============================] - 32s - loss: 0.1347 - acc: 0.9628 - val_loss: 0.1274 - val_acc: 0.9738\n",
      "Epoch 9/10\n",
      "26270/26270 [==============================] - 31s - loss: 0.1209 - acc: 0.9674 - val_loss: 0.1201 - val_acc: 0.9737\n",
      "Epoch 10/10\n",
      "26270/26270 [==============================] - 30s - loss: 0.1077 - acc: 0.9710 - val_loss: 0.1262 - val_acc: 0.9672\n"
     ]
    },
    {
     "data": {
      "text/plain": [
       "<keras.callbacks.History at 0x10d061cf8>"
      ]
     },
     "execution_count": 30,
     "metadata": {},
     "output_type": "execute_result"
    }
   ],
   "source": [
    "# Train the model\n",
    "model.fit(X_train, Y_train, \n",
    "                 batch_size=128, nb_epoch=10,\n",
    "                 validation_data=(X_val, Y_val))"
   ]
  },
  {
   "cell_type": "code",
   "execution_count": 31,
   "metadata": {
    "collapsed": true
   },
   "outputs": [],
   "source": [
    "# STOP: Do not change the tests below. Your implementation should pass these tests.\n",
    "assert(history.history['val_acc'][-1] > 0.95), \"The validation accuracy is: %.3f\" % history.history['val_acc'][-1]"
   ]
  },
  {
   "cell_type": "markdown",
   "metadata": {
    "collapsed": true
   },
   "source": [
    "**Validation Accuracy**: "
   ]
  },
  {
   "cell_type": "markdown",
   "metadata": {},
   "source": [
    "## Optimization\n",
    "Congratulations! You've built a neural network with convolutions, pooling, dropout, and fully-connected layers, all in just a few lines of code.\n",
    "\n",
    "Have fun with the model and see how well you can do! Add more layers, or regularization, or different padding, or batches, or more training epochs.\n",
    "\n",
    "What is the best validation accuracy you can achieve?"
   ]
  },
  {
   "cell_type": "code",
   "execution_count": null,
   "metadata": {
    "collapsed": false
   },
   "outputs": [],
   "source": [
    "# TODO: Experiment with more complex models\n",
    "\n",
    "from keras.layers import Activation\n",
    "from keras.layers import Convolution2D\n",
    "from keras.layers import Dense\n",
    "from keras.layers import Flatten\n",
    "from keras.layers import Dropout\n",
    "from keras.layers import MaxPooling2D\n",
    "from keras.models import Sequential\n",
    "\n",
    "\n",
    "def best_model():\n",
    "    model = Sequential()\n",
    "\n",
    "    model.add(Convolution2D(32, 3, 3, input_shape=(32, 32, 3), border_mode='valid'))\n",
    "    model.add(MaxPooling2D(pool_size=(2, 2)))\n",
    "    model.add(Dropout(0.5))\n",
    "\n",
    "    model.add(Flatten())\n",
    "    model.add(Dense(128))\n",
    "\n",
    "    model.add(Dense(43))\n",
    "    model.add(Activation('softmax'))\n",
    "\n",
    "    model.compile(loss='categorical_crossentropy', optimizer='adam', metrics=['accuracy'])\n",
    "    \n",
    "    return model"
   ]
  },
  {
   "cell_type": "code",
   "execution_count": null,
   "metadata": {
    "collapsed": true
   },
   "outputs": [],
   "source": [
    "def debug_model(model):\n",
    "    for l in model.layers:\n",
    "        try:\n",
    "            print(l.name, l.input_shape, l.output_shape, l.activation)\n",
    "        except:\n",
    "            print(l.name, l.input_shape, l.output_shape)"
   ]
  },
  {
   "cell_type": "markdown",
   "metadata": {},
   "source": [
    "**Best Validation Accuracy:** (fill in here)"
   ]
  },
  {
   "cell_type": "markdown",
   "metadata": {},
   "source": [
    "## Testing\n",
    "Once you've picked out your best model, it's time to test it.\n",
    "\n",
    "Load up the test data and use the [`evaluate()` method](https://keras.io/models/model/#evaluate) to see how well it does.\n",
    "\n",
    "Hint 1: The `evaluate()` method should return an array of numbers. Use the `metrics_names()` method to get the labels."
   ]
  },
  {
   "cell_type": "code",
   "execution_count": 32,
   "metadata": {
    "collapsed": false
   },
   "outputs": [],
   "source": [
    "with open('test.p', 'rb') as f:\n",
    "    test = pickle.load(f)\n",
    "\n",
    "X_test = test['features']\n",
    "y_test = test['labels']\n",
    "    \n",
    "# Preprocess\n",
    "X_test = X_test / 255 - 0.5\n",
    "assert(math.isclose(np.min(X_test), -0.5, abs_tol=1e-5))\n",
    "assert(math.isclose(np.max(X_test), 0.5, abs_tol=1e-5))\n",
    "\n",
    "Y_test = np_utils.to_categorical(y_test)\n",
    "assert(Y_test.shape[1] == 43)"
   ]
  },
  {
   "cell_type": "code",
   "execution_count": 33,
   "metadata": {
    "collapsed": false
   },
   "outputs": [
    {
     "name": "stdout",
     "output_type": "stream",
     "text": [
      "____________________________________________________________________________________________________\n",
      "Layer (type)                     Output Shape          Param #     Connected to                     \n",
      "====================================================================================================\n",
      "convolution2d_3 (Convolution2D)  (None, 30, 30, 32)    896         convolution2d_input_3[0][0]      \n",
      "____________________________________________________________________________________________________\n",
      "maxpooling2d_2 (MaxPooling2D)    (None, 15, 15, 32)    0           convolution2d_3[0][0]            \n",
      "____________________________________________________________________________________________________\n",
      "dropout_1 (Dropout)              (None, 15, 15, 32)    0           maxpooling2d_2[0][0]             \n",
      "____________________________________________________________________________________________________\n",
      "activation_9 (Activation)        (None, 15, 15, 32)    0           dropout_1[0][0]                  \n",
      "____________________________________________________________________________________________________\n",
      "flatten_3 (Flatten)              (None, 7200)          0           activation_9[0][0]               \n",
      "____________________________________________________________________________________________________\n",
      "dense_7 (Dense)                  (None, 128)           921728      flatten_3[0][0]                  \n",
      "____________________________________________________________________________________________________\n",
      "activation_10 (Activation)       (None, 128)           0           dense_7[0][0]                    \n",
      "____________________________________________________________________________________________________\n",
      "dense_8 (Dense)                  (None, 43)            5547        activation_10[0][0]              \n",
      "____________________________________________________________________________________________________\n",
      "activation_11 (Activation)       (None, 43)            0           dense_8[0][0]                    \n",
      "====================================================================================================\n",
      "Total params: 928,171\n",
      "Trainable params: 928,171\n",
      "Non-trainable params: 0\n",
      "____________________________________________________________________________________________________\n"
     ]
    }
   ],
   "source": [
    "model.summary()"
   ]
  },
  {
   "cell_type": "code",
   "execution_count": 34,
   "metadata": {
    "collapsed": false
   },
   "outputs": [
    {
     "name": "stdout",
     "output_type": "stream",
     "text": [
      "12630/12630 [==============================] - 5s     \n"
     ]
    }
   ],
   "source": [
    "result = \\\n",
    "model.evaluate(X_test, Y_test,\n",
    "                            batch_size=128, verbose=1)"
   ]
  },
  {
   "cell_type": "code",
   "execution_count": 35,
   "metadata": {
    "collapsed": false
   },
   "outputs": [
    {
     "data": {
      "text/plain": [
       "[0.4797597684042848, 0.89255740299927089]"
      ]
     },
     "execution_count": 35,
     "metadata": {},
     "output_type": "execute_result"
    }
   ],
   "source": [
    "result"
   ]
  },
  {
   "cell_type": "markdown",
   "metadata": {},
   "source": [
    "**Test Accuracy:** "
   ]
  },
  {
   "cell_type": "markdown",
   "metadata": {},
   "source": [
    "## Summary\n",
    "Keras is a great tool to use if you want to quickly build a neural network and evaluate performance."
   ]
  }
 ],
 "metadata": {
  "anaconda-cloud": {},
  "kernelspec": {
   "display_name": "Python [conda env:keras]",
   "language": "python",
   "name": "conda-env-keras-py"
  },
  "language_info": {
   "codemirror_mode": {
    "name": "ipython",
    "version": 3
   },
   "file_extension": ".py",
   "mimetype": "text/x-python",
   "name": "python",
   "nbconvert_exporter": "python",
   "pygments_lexer": "ipython3",
   "version": "3.5.2"
  }
 },
 "nbformat": 4,
 "nbformat_minor": 0
}
